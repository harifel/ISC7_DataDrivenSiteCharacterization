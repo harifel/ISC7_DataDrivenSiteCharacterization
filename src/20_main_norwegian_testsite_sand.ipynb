{
 "cells": [
  {
   "cell_type": "code",
   "execution_count": 1,
   "metadata": {},
   "outputs": [],
   "source": [
    "#Import packages\n",
    "import pandas as pd\n",
    "pd.set_option('mode.chained_assignment', None)  # Suppress SettingWithCopyWarning\n",
    "\n",
    "import numpy as np\n",
    "import os\n",
    "\n",
    "from functions import plotting_raw_data, remove_outliers, error_plot, plot_cpt_data, plot_cpt_data_ML_prediction, plot_cpt_data_NW_site, plot_cpt_data_NW_site_all,LegendVertical\n",
    "\n",
    "import matplotlib.pyplot as plt\n",
    "from sklearn.metrics import r2_score, mean_squared_error"
   ]
  },
  {
   "cell_type": "code",
   "execution_count": 2,
   "metadata": {},
   "outputs": [],
   "source": [
    "######################## Define the text size of each plot globally ###########\n",
    "SMALL_SIZE = 10\n",
    "BIGGER_SIZE = 10\n",
    "\n",
    "plt.rc('font', size=SMALL_SIZE)          # controls default text sizes\n",
    "plt.rc('axes', titlesize=SMALL_SIZE)     # fontsize of the axes title\n",
    "plt.rc('axes', labelsize=SMALL_SIZE)    # fontsize of the x and y labels\n",
    "plt.rc('xtick', labelsize=SMALL_SIZE)    # fontsize of the tick labels\n",
    "plt.rc('ytick', labelsize=SMALL_SIZE)    # fontsize of the tick labels\n",
    "plt.rc('legend', fontsize=SMALL_SIZE)    # legend fontsize\n",
    "plt.rc('figure', titlesize=BIGGER_SIZE)  # fontsize of the figure title\n",
    "\n",
    "plt.rcParams[\"font.family\"] = \"Times New Roman\"\n",
    "######################## Define the text size of each plot globally ###########"
   ]
  },
  {
   "cell_type": "code",
   "execution_count": 3,
   "metadata": {},
   "outputs": [],
   "source": [
    "file_path = r\"..\\\\data\\BBC\\Sand\\CPT\\OYSC35.xlsx\"\n",
    "\n",
    "#select desired columns as for the model training\n",
    "selected_columns_x = ['Depth (m)','qc (MPa)', 'fs (kPa)','Rf (%)','Vs (m/s)'] #for Machine learning features\n",
    "plot_columns_x_label = ['Depth (m)','$q_c$ (MPa)', '$f_s$ (kPa)','$R_f$ (%)', '$v_s$ (m/s)'] #for plotting purpose\n",
    "\n",
    "# Read the Excel file into a DataFrame\n",
    "df_test_norway = pd.read_excel(file_path)\n",
    "df_test_norway.drop(index=df_test_norway.index[:2], axis=0, inplace=True)\n",
    "df_test_norway['Tip resistance'] = np.where(df_test_norway['Tip resistance'].values == 0, 1e-6, df_test_norway['Tip resistance'].values)\n",
    "#df_test_norwegen = df_test_norway.astype(float)\n",
    "\n",
    "# data preprocessing\n",
    "data_preproccesed = df_test_norway[['Depth', 'Tip resistance', 'Sleeve friction']]\n",
    "data_preproccesed['Rf (%)'] = df_test_norway['Sleeve friction'].values / (df_test_norway['Tip resistance'].values * 1000) * 100\n",
    "data_preproccesed['Shear wave'] = df_test_norway['Shear wave']\n",
    "data_preproccesed = data_preproccesed.astype(float)\n",
    "\n",
    "\n",
    "column_mapping = {\n",
    "    'Depth': 'Depth (m)',\n",
    "    'Tip resistance': 'qc (MPa)',\n",
    "    'Sleeve friction': 'fs (kPa)',\n",
    "    'Rf (%)': 'Rf (%)',\n",
    "    'Shear wave': 'Vs (m/s)'\n",
    "}\n",
    "\n",
    "# Rename columns in x_data_nor\n",
    "data_preproccesed = data_preproccesed.rename(columns=column_mapping)\n",
    "df_test_norwegen_raw = data_preproccesed.copy()\n",
    "\n",
    "z, qc, fs = np.array(data_preproccesed.iloc[:,0]), np.array(data_preproccesed.iloc[:,1]), np.array(data_preproccesed.iloc[:,2])\n",
    "\n",
    "data_preproccesed_dropped = data_preproccesed.dropna(subset=['Vs (m/s)'])\n",
    "x_test_nor = data_preproccesed[selected_columns_x[:-1]]\n",
    "y_test_nor = data_preproccesed['Vs (m/s)']\n",
    "\n",
    "\n",
    "x_data_nor = data_preproccesed_dropped[selected_columns_x[:-1]]\n",
    "y_data_nor = data_preproccesed_dropped['Vs (m/s)']"
   ]
  },
  {
   "cell_type": "code",
   "execution_count": 4,
   "metadata": {},
   "outputs": [],
   "source": [
    "vs2 = lambda fs: 118.8 * np.log(fs) + 18.5         #mayne 2006\n",
    "vs3 = lambda qc: 11.711 * (qc*1000) **0.3409       #Hegazy and Mayne 2006\n",
    "\n",
    "vs_2 = vs2(fs)\n",
    "vs_3 = vs3(qc)\n",
    "\n",
    "\n",
    "\n",
    "vs10 = lambda qc, fs: 12.02*(qc)**0.319*(fs)**(-0.0466)\n",
    "vs11 = lambda qc, fs: 13*(qc)**0.382*(z)**0.099  ###qt\n",
    "vs12 = lambda qc, fs: 18.4*(qc)**0.144*(fs)**0.083*(z)**0.278\n"
   ]
  },
  {
   "cell_type": "code",
   "execution_count": 7,
   "metadata": {},
   "outputs": [],
   "source": [
    "# Load the model\n",
    "import joblib\n",
    "loaded_model = joblib.load('xgb_model_DPA 2.joblib')\n",
    "y_pred = loaded_model.predict(x_test_nor)"
   ]
  },
  {
   "cell_type": "code",
   "execution_count": 1,
   "metadata": {},
   "outputs": [
    {
     "ename": "NameError",
     "evalue": "name 'plot_cpt_data_NW_site_all' is not defined",
     "output_type": "error",
     "traceback": [
      "\u001b[1;31m---------------------------------------------------------------------------\u001b[0m",
      "\u001b[1;31mNameError\u001b[0m                                 Traceback (most recent call last)",
      "Cell \u001b[1;32mIn[1], line 2\u001b[0m\n\u001b[0;32m      1\u001b[0m cm \u001b[38;5;241m=\u001b[39m \u001b[38;5;241m1\u001b[39m\u001b[38;5;241m/\u001b[39m\u001b[38;5;241m2.54\u001b[39m  \u001b[38;5;66;03m# centimeters in inches\u001b[39;00m\n\u001b[1;32m----> 2\u001b[0m fig, axes \u001b[38;5;241m=\u001b[39m \u001b[43mplot_cpt_data_NW_site_all\u001b[49m((\u001b[38;5;241m17\u001b[39m\u001b[38;5;241m*\u001b[39mcm, \u001b[38;5;241m8\u001b[39m\u001b[38;5;241m*\u001b[39mcm), selected_columns_x, df_test_norwegen_raw, data_preproccesed_dropped, y_data_nor, y_pred, plot_columns_x_label)\n\u001b[0;32m      4\u001b[0m labels \u001b[38;5;241m=\u001b[39m [\u001b[38;5;124m'\u001b[39m\u001b[38;5;124mMayne (2006)\u001b[39m\u001b[38;5;124m'\u001b[39m, \u001b[38;5;124m'\u001b[39m\u001b[38;5;124mHegazy and Mayne (2006)\u001b[39m\u001b[38;5;124m'\u001b[39m]\n\u001b[0;32m      6\u001b[0m line2 \u001b[38;5;241m=\u001b[39m axes[\u001b[38;5;241m-\u001b[39m\u001b[38;5;241m1\u001b[39m]\u001b[38;5;241m.\u001b[39mplot(vs_2, z, marker\u001b[38;5;241m=\u001b[39m\u001b[38;5;124m'\u001b[39m\u001b[38;5;124mo\u001b[39m\u001b[38;5;124m'\u001b[39m, color\u001b[38;5;241m=\u001b[39m\u001b[38;5;124m'\u001b[39m\u001b[38;5;124msienna\u001b[39m\u001b[38;5;124m'\u001b[39m, linewidth\u001b[38;5;241m=\u001b[39m\u001b[38;5;241m0.3\u001b[39m, markersize\u001b[38;5;241m=\u001b[39m\u001b[38;5;241m0.0\u001b[39m, linestyle\u001b[38;5;241m=\u001b[39m\u001b[38;5;124m'\u001b[39m\u001b[38;5;124msolid\u001b[39m\u001b[38;5;124m'\u001b[39m, zorder\u001b[38;5;241m=\u001b[39m\u001b[38;5;241m-\u001b[39m\u001b[38;5;241m10\u001b[39m) \u001b[38;5;66;03m#Mayne (2006)\u001b[39;00m\n",
      "\u001b[1;31mNameError\u001b[0m: name 'plot_cpt_data_NW_site_all' is not defined"
     ]
    }
   ],
   "source": [
    "cm = 1/2.54  # centimeters in inches\n",
    "fig, axes = plot_cpt_data_NW_site_all((17*cm, 8*cm), selected_columns_x, df_test_norwegen_raw, data_preproccesed_dropped, y_data_nor, y_pred, plot_columns_x_label)\n",
    "\n",
    "labels = ['Mayne (2006)', 'Hegazy and Mayne (2006)']\n",
    "\n",
    "line2 = axes[-1].plot(vs_2, z, marker='o', color='sienna', linewidth=0.5, markersize=0.0, linestyle='solid', zorder=-10) #Mayne (2006)\n",
    "axes[-1].annotate('', xy=(1.1, 0.59), xytext=(1.1, 0.69), arrowprops=dict(arrowstyle='-', linestyle='solid', linewidth=0.7, color='sienna'), xycoords='axes fraction')\n",
    "axes[-1].text(1.05, 0.85, labels[0], color='k', ha='left', va='center', rotation=90, transform=axes[-1].transAxes)\n",
    "\n",
    "line3 = axes[-1].plot(vs_3, z, marker='o', color='green', linewidth=0.5, markersize=0, linestyle='solid',zorder=-10) #Hegazy and Mayne (2006)\n",
    "axes[-1].annotate('', xy=(1.1, -0.15), xytext=(1.1, -0.05), arrowprops=dict(arrowstyle='-', linestyle='solid', linewidth=0.7, color='green'), xycoords='axes fraction')\n",
    "axes[-1].text(1.05, 0.25, labels[1], color='k', ha='left', va='center', rotation=90, transform=axes[-1].transAxes)\n",
    "\n",
    "\n",
    "\n",
    "axes[-1].fill_betweenx(y=z, x1 = vs_3, x2 = vs_2, zorder=-50, facecolor='gray', alpha = 0.3)\n",
    "\n",
    "axes[-1].set_xlim(xmin=0, xmax=800)\n",
    "fig.subplots_adjust(right=0.96, top = 0.98, bottom = 0.14, left = 0.08)\n",
    "\n",
    "plt.savefig(r\"..\\\\graphics\\C_Norwegian_test_site_XGBRegressor.png\", dpi = 700)"
   ]
  }
 ],
 "metadata": {
  "kernelspec": {
   "display_name": "Python 3 (ipykernel)",
   "language": "python",
   "name": "python3"
  },
  "language_info": {
   "codemirror_mode": {
    "name": "ipython",
    "version": 3
   },
   "file_extension": ".py",
   "mimetype": "text/x-python",
   "name": "python",
   "nbconvert_exporter": "python",
   "pygments_lexer": "ipython3",
   "version": "3.11.6"
  }
 },
 "nbformat": 4,
 "nbformat_minor": 4
}
