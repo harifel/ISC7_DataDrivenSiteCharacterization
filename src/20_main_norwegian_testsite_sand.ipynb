{
 "cells": [
  {
   "cell_type": "code",
   "execution_count": null,
   "metadata": {},
   "outputs": [],
   "source": [
    "#Import packages\n",
    "import pandas as pd\n",
    "pd.set_option('mode.chained_assignment', None)  # Suppress SettingWithCopyWarning\n",
    "import numpy as np\n",
    "\n",
    "from functions import plot_cpt_data_NW_site_all\n",
    "import matplotlib.pyplot as plt"
   ]
  },
  {
   "cell_type": "code",
   "execution_count": null,
   "metadata": {},
   "outputs": [],
   "source": [
    "######################## Define the text size of each plot globally ###########\n",
    "SMALL_SIZE = 10\n",
    "BIGGER_SIZE = 10\n",
    "\n",
    "plt.rc('font', size=SMALL_SIZE)          # controls default text sizes\n",
    "plt.rc('axes', titlesize=SMALL_SIZE)     # fontsize of the axes title\n",
    "plt.rc('axes', labelsize=SMALL_SIZE)    # fontsize of the x and y labels\n",
    "plt.rc('xtick', labelsize=SMALL_SIZE)    # fontsize of the tick labels\n",
    "plt.rc('ytick', labelsize=SMALL_SIZE)    # fontsize of the tick labels\n",
    "plt.rc('legend', fontsize=SMALL_SIZE)    # legend fontsize\n",
    "plt.rc('figure', titlesize=BIGGER_SIZE)  # fontsize of the figure title\n",
    "\n",
    "plt.rcParams[\"font.family\"] = \"Times New Roman\"\n",
    "######################## Define the text size of each plot globally ###########"
   ]
  },
  {
   "cell_type": "code",
   "execution_count": null,
   "metadata": {},
   "outputs": [],
   "source": [
    "file_path = r\"..\\\\data\\BBC\\Sand\\CPT\\OYSC35.xlsx\"\n",
    "\n",
    "#select desired columns as for the model training\n",
    "selected_columns_x = ['Depth (m)','qc (MPa)', 'fs (kPa)','Rf (%)','Vs (m/s)'] #for Machine learning features\n",
    "plot_columns_x_label = ['Depth (m)','$q_c$ (MPa)', '$f_s$ (kPa)','$R_f$ (%)', '$v_s$ (m/s)'] #for plotting purpose\n",
    "\n",
    "# Read the Excel file into a DataFrame\n",
    "df_test_norway = pd.read_excel(file_path)\n",
    "df_test_norway.drop(index=df_test_norway.index[:2], axis=0, inplace=True)\n",
    "df_test_norway['Tip resistance'] = np.where(df_test_norway['Tip resistance'].values == 0, 1e-6, df_test_norway['Tip resistance'].values)\n",
    "#df_test_norwegen = df_test_norway.astype(float)\n",
    "\n",
    "# data preprocessing\n",
    "data_preproccesed = df_test_norway[['Depth', 'Tip resistance', 'Sleeve friction']]\n",
    "data_preproccesed['Rf (%)'] = df_test_norway['Sleeve friction'].values / (df_test_norway['Tip resistance'].values * 1000) * 100\n",
    "data_preproccesed['Shear wave'] = df_test_norway['Shear wave']\n",
    "data_preproccesed = data_preproccesed.astype(float)\n",
    "\n",
    "\n",
    "column_mapping = {\n",
    "    'Depth': 'Depth (m)',\n",
    "    'Tip resistance': 'qc (MPa)',\n",
    "    'Sleeve friction': 'fs (kPa)',\n",
    "    'Rf (%)': 'Rf (%)',\n",
    "    'Shear wave': 'Vs (m/s)'\n",
    "}\n",
    "\n",
    "# Rename columns in x_data_nor\n",
    "data_preproccesed = data_preproccesed.rename(columns=column_mapping)\n",
    "df_test_norwegen_raw = data_preproccesed.copy()\n",
    "\n",
    "z, qc, fs = np.array(data_preproccesed.iloc[:,0]), np.array(data_preproccesed.iloc[:,1]), np.array(data_preproccesed.iloc[:,2])\n",
    "\n",
    "data_preproccesed_dropped = data_preproccesed.dropna(subset=['Vs (m/s)'])\n",
    "x_test_nor = data_preproccesed[selected_columns_x[:-1]]\n",
    "y_test_nor = data_preproccesed['Vs (m/s)']\n",
    "\n",
    "\n",
    "x_data_nor = data_preproccesed_dropped[selected_columns_x[:-1]]\n",
    "y_data_nor = data_preproccesed_dropped['Vs (m/s)']"
   ]
  },
  {
   "cell_type": "code",
   "execution_count": null,
   "metadata": {},
   "outputs": [],
   "source": [
    "vs2 = lambda fs: 118.8 * np.log(fs) + 18.5         #mayne 2006\n",
    "vs3 = lambda qc: 11.711 * (qc*1000) **0.3409       #Hegazy and Mayne 2006\n",
    "\n",
    "vs10 = lambda qc, fs: 12.02*(qc*1000)**0.319*(fs)**(-0.0466) #Hegazy and Mayne 1995\n",
    "vs12 = lambda qc, fs, z: 18.4*(qc*1000)**0.144*(fs)**0.083*(z)**0.278 #McGann et al. 2018\n",
    "\n",
    "vs_2 = abs(vs2(fs))\n",
    "vs_3 = vs3(qc)\n",
    "vs_10 = vs10(qc, fs)\n",
    "vs_12 = vs12(qc, fs, z)"
   ]
  },
  {
   "cell_type": "code",
   "execution_count": null,
   "metadata": {},
   "outputs": [],
   "source": [
    "# Load the model\n",
    "import joblib\n",
    "loaded_model = joblib.load('xgb_model_DPA 2.joblib')\n",
    "y_pred = loaded_model.predict(x_test_nor)"
   ]
  },
  {
   "cell_type": "code",
   "execution_count": null,
   "metadata": {},
   "outputs": [],
   "source": [
    "cm = 1/2.54  # centimeters in inches\n",
    "fig, axes = plot_cpt_data_NW_site_all((17*cm, 8*cm), selected_columns_x, df_test_norwegen_raw, data_preproccesed_dropped, y_data_nor, y_pred, plot_columns_x_label)\n",
    "\n",
    "labels = ['Mayne (2006)', 'Hegazy and Mayne (1995)', 'Hegazy and Mayne (2006)']\n",
    "\n",
    "line2 = axes[-1].plot(vs_2, z, marker='d', markevery = 1,  markeredgecolor='k', markeredgewidth=0.0, color='sienna', linewidth=0.5, markersize=0, linestyle='solid', zorder=-10) #Mayne (2006)\n",
    "axes[-1].annotate('', xy=(1.1, 0.59), xytext=(1.1, 0.69), arrowprops=dict(arrowstyle='-', linestyle='solid', linewidth=0.8, color='sienna'), xycoords='axes fraction')\n",
    "axes[-1].text(1.05, 0.85, labels[0], color='k', ha='left', va='center', rotation=90, transform=axes[-1].transAxes)\n",
    "\n",
    "line3 = axes[-1].plot(vs_10, z, marker='s', markevery=1, markeredgecolor='k', markeredgewidth=0.0, color='green', linewidth=0.5, markersize=0, linestyle='solid', zorder=-10) #Hegazy and Mayne 1995\n",
    "axes[-1].annotate('', xy=(1.1, -0.15), xytext=(1.1, -0.05), arrowprops=dict(arrowstyle='-', linestyle='solid', linewidth=0.8, color='green'), xycoords='axes fraction')\n",
    "axes[-1].text(1.05, 0.25, labels[1], color='k', ha='left', va='center', rotation=90, transform=axes[-1].transAxes)\n",
    "\n",
    "axes[-1].fill_betweenx(y=z, x1=vs_2, x2=vs_10, zorder=-50, facecolor='gray', alpha=0.3, hatch='//////', linewidth=0.5, edgecolor='gray')\n",
    "\n",
    "line3 = axes[-1].plot(vs_3, z, marker='s', markevery=1, markeredgecolor='k', markeredgewidth=0.0, color='darkorange', linewidth=0.5, markersize=0, linestyle='solid', zorder=-10) #Hegazy and Mayne 1995\n",
    "axes[-1].annotate('', xy=(1.23, -0.15), xytext=(1.23, -0.05), arrowprops=dict(arrowstyle='-', linestyle='solid', linewidth=0.8, color='darkorange'), xycoords='axes fraction')\n",
    "axes[-1].text(1.18, 0.25, labels[2], color='k', ha='left', va='center', rotation=90, transform=axes[-1].transAxes)\n",
    "\n",
    "axes[-1].set_xlim(xmin=0, xmax=800)\n",
    "fig.subplots_adjust(right=0.94, top = 0.98, bottom = 0.14, left = 0.08)\n",
    "\n",
    "plt.savefig(r\"..\\\\graphics\\C_Norwegian_test_site_XGBRegressor.png\", dpi = 700)"
   ]
  }
 ],
 "metadata": {
  "kernelspec": {
   "display_name": "Python 3 (ipykernel)",
   "language": "python",
   "name": "python3"
  },
  "language_info": {
   "codemirror_mode": {
    "name": "ipython",
    "version": 3
   },
   "file_extension": ".py",
   "mimetype": "text/x-python",
   "name": "python",
   "nbconvert_exporter": "python",
   "pygments_lexer": "ipython3",
   "version": "3.11.6"
  }
 },
 "nbformat": 4,
 "nbformat_minor": 4
}
